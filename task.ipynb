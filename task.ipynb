{
 "cells": [
  {
   "cell_type": "code",
   "execution_count": null,
   "metadata": {},
   "outputs": [],
   "source": [
    "# Function to check if a number is prime\n",
    "def is_prime(n):\n",
    "    if n <= 1:\n",
    "        return False\n",
    "    for i in range(2, int(n**0.5) + 1):\n",
    "        if n % i == 0:\n",
    "            return False\n",
    "    return True\n",
    "\n",
    "# Test the function\n",
    "print(is_prime(7))  # True\n",
    "print(is_prime(10))  # False\n"
   ]
  },
  {
   "cell_type": "code",
   "execution_count": null,
   "metadata": {},
   "outputs": [],
   "source": [
    "# Function to generate Fibonacci sequence\n",
    "def fibonacci(n):\n",
    "    a, b = 0, 1\n",
    "    sequence = []\n",
    "    for _ in range(n):\n",
    "        sequence.append(a)\n",
    "        a, b = b, a + b\n",
    "    return sequence\n",
    "\n",
    "# Test the function\n",
    "n_terms = int(input(\"Enter the number of terms: \"))\n",
    "print(fibonacci(n_terms))\n"
   ]
  },
  {
   "cell_type": "code",
   "execution_count": null,
   "metadata": {},
   "outputs": [],
   "source": [
    "# Function to return the largest number in a list\n",
    "def largest_number(numbers):\n",
    "    if not numbers:  # If the list is empty, return None\n",
    "        return None\n",
    "    return max(numbers)\n",
    "\n",
    "# Test the function\n",
    "num_list = [23, 67, 12, 98, 45]\n",
    "print(f\"The largest number is {largest_number(num_list)}\")  # Output: 98\n"
   ]
  }
 ],
 "metadata": {
  "language_info": {
   "name": "python"
  }
 },
 "nbformat": 4,
 "nbformat_minor": 2
}
